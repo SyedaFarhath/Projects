{
 "cells": [
  {
   "cell_type": "code",
   "execution_count": null,
   "id": "01d232d1",
   "metadata": {},
   "outputs": [],
   "source": [
    "!pip install kivy"
   ]
  },
  {
   "cell_type": "code",
   "execution_count": null,
   "id": "2d6343eb",
   "metadata": {},
   "outputs": [],
   "source": [
    "import kivy\n",
    "\n",
    "\n",
    "kivy.require(\"1.9.1\")\n",
    "\n",
    "from kivy.app import App\n",
    "\n",
    "\n",
    "from kivy.uix.vkeyboard import VKeyboard\n",
    "\n",
    "class Test(VKeyboard):\n",
    "    player = VKeyboard()\n",
    "\n",
    "class VkeyboardApp(App):\n",
    "    def build(self):\n",
    "        return Test()\n",
    "\n",
    "# run the App\n",
    "if __name__ == '__main__':\n",
    "    VkeyboardApp().run()\n"
   ]
  },
  {
   "cell_type": "code",
   "execution_count": null,
   "id": "2fcbcd77",
   "metadata": {},
   "outputs": [],
   "source": []
  },
  {
   "cell_type": "code",
   "execution_count": null,
   "id": "a52fc128",
   "metadata": {},
   "outputs": [],
   "source": []
  }
 ],
 "metadata": {
  "kernelspec": {
   "display_name": "Python 3 (ipykernel)",
   "language": "python",
   "name": "python3"
  },
  "language_info": {
   "codemirror_mode": {
    "name": "ipython",
    "version": 3
   },
   "file_extension": ".py",
   "mimetype": "text/x-python",
   "name": "python",
   "nbconvert_exporter": "python",
   "pygments_lexer": "ipython3",
   "version": "3.8.10"
  }
 },
 "nbformat": 4,
 "nbformat_minor": 5
}
