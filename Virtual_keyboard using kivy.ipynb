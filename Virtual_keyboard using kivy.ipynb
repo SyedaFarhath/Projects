{
 "cells": [
  {
   "cell_type": "code",
   "execution_count": 2,
   "id": "c3555b5f",
   "metadata": {},
   "outputs": [
    {
     "name": "stdout",
     "output_type": "stream",
     "text": [
      "Requirement already satisfied: kivy in c:\\programdata\\anaconda3\\lib\\site-packages (2.2.1)\n",
      "Requirement already satisfied: kivy-deps.glew~=0.3.1 in c:\\programdata\\anaconda3\\lib\\site-packages (from kivy) (0.3.1)\n",
      "Requirement already satisfied: kivy-deps.angle~=0.3.3 in c:\\programdata\\anaconda3\\lib\\site-packages (from kivy) (0.3.3)\n",
      "Requirement already satisfied: pygments in c:\\programdata\\anaconda3\\lib\\site-packages (from kivy) (2.11.2)\n",
      "Requirement already satisfied: kivy-deps.sdl2~=0.6.0 in c:\\programdata\\anaconda3\\lib\\site-packages (from kivy) (0.6.0)\n",
      "Requirement already satisfied: Kivy-Garden>=0.1.4 in c:\\programdata\\anaconda3\\lib\\site-packages (from kivy) (0.1.5)\n",
      "Requirement already satisfied: pypiwin32 in c:\\programdata\\anaconda3\\lib\\site-packages (from kivy) (223)\n",
      "Requirement already satisfied: docutils in c:\\programdata\\anaconda3\\lib\\site-packages (from kivy) (0.18.1)\n",
      "Requirement already satisfied: requests in c:\\programdata\\anaconda3\\lib\\site-packages (from Kivy-Garden>=0.1.4->kivy) (2.28.1)\n",
      "Requirement already satisfied: pywin32>=223 in c:\\programdata\\anaconda3\\lib\\site-packages (from pypiwin32->kivy) (302)\n",
      "Requirement already satisfied: idna<4,>=2.5 in c:\\programdata\\anaconda3\\lib\\site-packages (from requests->Kivy-Garden>=0.1.4->kivy) (3.3)\n",
      "Requirement already satisfied: charset-normalizer<3,>=2 in c:\\programdata\\anaconda3\\lib\\site-packages (from requests->Kivy-Garden>=0.1.4->kivy) (2.0.4)\n",
      "Requirement already satisfied: certifi>=2017.4.17 in c:\\programdata\\anaconda3\\lib\\site-packages (from requests->Kivy-Garden>=0.1.4->kivy) (2022.9.14)\n",
      "Requirement already satisfied: urllib3<1.27,>=1.21.1 in c:\\programdata\\anaconda3\\lib\\site-packages (from requests->Kivy-Garden>=0.1.4->kivy) (1.26.11)\n"
     ]
    }
   ],
   "source": [
    "!pip install kivy"
   ]
  },
  {
   "cell_type": "code",
   "execution_count": null,
   "id": "f8252f78",
   "metadata": {},
   "outputs": [],
   "source": [
    "import kivy\n",
    "\n",
    "kivy.require('2.0.0')\n",
    "\n",
    "from kivy.app import App\n",
    "\n",
    "from kivy.uix.vkeyboard import VKeyboard\n",
    "from kivy.uix.label import Label\n",
    "from kivy.uix.gridlayout import GridLayout\n",
    "\n",
    "class MyApp(App):\n",
    "    def build(self):\n",
    "        layout = GridLayout(cols=1)\n",
    "        keyboard = VKeyboard(on_key_up = self.key_up)\n",
    "        self.label = Label(text = \"Selected key : \", font_size = \"50sp\")\n",
    "        layout.add_widget(self.label)\n",
    "        layout.add_widget(keyboard)\n",
    "        return layout\n",
    "    \n",
    "    def key_up(self, keyboard, keycode, *args):\n",
    "        if isinstance(keyboard,tuple):\n",
    "            keycode = keycode[1]\n",
    "        self.label.text = \"Selected key : \"+str(keycode)\n",
    "        \n",
    "if __name__ == '__main__':\n",
    "    MyApp().run()"
   ]
  }
 ],
 "metadata": {
  "kernelspec": {
   "display_name": "Python 3 (ipykernel)",
   "language": "python",
   "name": "python3"
  },
  "language_info": {
   "codemirror_mode": {
    "name": "ipython",
    "version": 3
   },
   "file_extension": ".py",
   "mimetype": "text/x-python",
   "name": "python",
   "nbconvert_exporter": "python",
   "pygments_lexer": "ipython3",
   "version": "3.9.13"
  }
 },
 "nbformat": 4,
 "nbformat_minor": 5
}
